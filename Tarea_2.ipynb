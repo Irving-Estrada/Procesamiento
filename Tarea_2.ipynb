{
 "cells": [
  {
   "cell_type": "code",
   "execution_count": 1,
   "id": "1489c3f5",
   "metadata": {},
   "outputs": [],
   "source": [
    "import pandas as pd"
   ]
  },
  {
   "cell_type": "code",
   "execution_count": 2,
   "id": "79bef869",
   "metadata": {},
   "outputs": [],
   "source": [
    "original_dataset = pd.read_csv('/Users/irvingestrada/Documents/Maestría/9- Procesamiento y Clasificacion de Datos/Datasets/APPLE_iPhone_SE.csv')"
   ]
  },
  {
   "cell_type": "code",
   "execution_count": 3,
   "id": "9fda7267",
   "metadata": {},
   "outputs": [
    {
     "data": {
      "text/html": [
       "<div>\n",
       "<style scoped>\n",
       "    .dataframe tbody tr th:only-of-type {\n",
       "        vertical-align: middle;\n",
       "    }\n",
       "\n",
       "    .dataframe tbody tr th {\n",
       "        vertical-align: top;\n",
       "    }\n",
       "\n",
       "    .dataframe thead th {\n",
       "        text-align: right;\n",
       "    }\n",
       "</style>\n",
       "<table border=\"1\" class=\"dataframe\">\n",
       "  <thead>\n",
       "    <tr style=\"text-align: right;\">\n",
       "      <th></th>\n",
       "      <th>Ratings</th>\n",
       "      <th>Comment</th>\n",
       "      <th>Reviews</th>\n",
       "    </tr>\n",
       "  </thead>\n",
       "  <tbody>\n",
       "    <tr>\n",
       "      <th>0</th>\n",
       "      <td>5</td>\n",
       "      <td>Super!</td>\n",
       "      <td>Great camera for pics and videos Battery life ...</td>\n",
       "    </tr>\n",
       "    <tr>\n",
       "      <th>1</th>\n",
       "      <td>5</td>\n",
       "      <td>Must buy!</td>\n",
       "      <td>Great device. Let me tell the Pros..1. Superb ...</td>\n",
       "    </tr>\n",
       "    <tr>\n",
       "      <th>2</th>\n",
       "      <td>5</td>\n",
       "      <td>Great product</td>\n",
       "      <td>Who all loves older size i.e., 4.7 inch type s...</td>\n",
       "    </tr>\n",
       "    <tr>\n",
       "      <th>3</th>\n",
       "      <td>5</td>\n",
       "      <td>Simply awesome</td>\n",
       "      <td>This iPhone SE is the best phone ever you get....</td>\n",
       "    </tr>\n",
       "    <tr>\n",
       "      <th>4</th>\n",
       "      <td>5</td>\n",
       "      <td>Classy product</td>\n",
       "      <td>This is my second iphone after iphone 4s. I’ve...</td>\n",
       "    </tr>\n",
       "    <tr>\n",
       "      <th>...</th>\n",
       "      <td>...</td>\n",
       "      <td>...</td>\n",
       "      <td>...</td>\n",
       "    </tr>\n",
       "    <tr>\n",
       "      <th>9708</th>\n",
       "      <td>5</td>\n",
       "      <td>Terrific purchase</td>\n",
       "      <td>Absolutely brilliantREAD MORE</td>\n",
       "    </tr>\n",
       "    <tr>\n",
       "      <th>9709</th>\n",
       "      <td>5</td>\n",
       "      <td>Classy product</td>\n",
       "      <td>Superb phone. This is my 4th iPhone, I feel SE...</td>\n",
       "    </tr>\n",
       "    <tr>\n",
       "      <th>9710</th>\n",
       "      <td>5</td>\n",
       "      <td>Awesome</td>\n",
       "      <td>very niceREAD MORE</td>\n",
       "    </tr>\n",
       "    <tr>\n",
       "      <th>9711</th>\n",
       "      <td>5</td>\n",
       "      <td>Super!</td>\n",
       "      <td>Loving it as of now. Good Product .READ MORE</td>\n",
       "    </tr>\n",
       "    <tr>\n",
       "      <th>9712</th>\n",
       "      <td>5</td>\n",
       "      <td>Terrific purchase</td>\n",
       "      <td>NiceElegant ElectricREAD MORE</td>\n",
       "    </tr>\n",
       "  </tbody>\n",
       "</table>\n",
       "<p>9713 rows × 3 columns</p>\n",
       "</div>"
      ],
      "text/plain": [
       "      Ratings            Comment  \\\n",
       "0           5             Super!   \n",
       "1           5          Must buy!   \n",
       "2           5      Great product   \n",
       "3           5     Simply awesome   \n",
       "4           5     Classy product   \n",
       "...       ...                ...   \n",
       "9708        5  Terrific purchase   \n",
       "9709        5     Classy product   \n",
       "9710        5            Awesome   \n",
       "9711        5             Super!   \n",
       "9712        5  Terrific purchase   \n",
       "\n",
       "                                                Reviews  \n",
       "0     Great camera for pics and videos Battery life ...  \n",
       "1     Great device. Let me tell the Pros..1. Superb ...  \n",
       "2     Who all loves older size i.e., 4.7 inch type s...  \n",
       "3     This iPhone SE is the best phone ever you get....  \n",
       "4     This is my second iphone after iphone 4s. I’ve...  \n",
       "...                                                 ...  \n",
       "9708                      Absolutely brilliantREAD MORE  \n",
       "9709  Superb phone. This is my 4th iPhone, I feel SE...  \n",
       "9710                                 very niceREAD MORE  \n",
       "9711       Loving it as of now. Good Product .READ MORE  \n",
       "9712                      NiceElegant ElectricREAD MORE  \n",
       "\n",
       "[9713 rows x 3 columns]"
      ]
     },
     "execution_count": 3,
     "metadata": {},
     "output_type": "execute_result"
    }
   ],
   "source": [
    "original_dataset"
   ]
  },
  {
   "cell_type": "code",
   "execution_count": 4,
   "id": "1c21f18e",
   "metadata": {},
   "outputs": [],
   "source": [
    "dataset = original_dataset"
   ]
  },
  {
   "cell_type": "code",
   "execution_count": 5,
   "id": "3e1daa67",
   "metadata": {},
   "outputs": [],
   "source": [
    "def sentiment_tag(rating):\n",
    "    if rating >= 4:\n",
    "        sentiment = \"Positive\"\n",
    "    elif rating == 3:\n",
    "        sentiment = \"Neutral\"\n",
    "    else:\n",
    "        sentiment = \"Negative\"\n",
    "        \n",
    "    return sentiment"
   ]
  },
  {
   "cell_type": "code",
   "execution_count": 6,
   "id": "a1215fb4",
   "metadata": {},
   "outputs": [],
   "source": [
    "dataset[\"Real_Sentiment\"] = dataset[\"Ratings\"].apply(sentiment_tag)"
   ]
  },
  {
   "cell_type": "code",
   "execution_count": 7,
   "id": "9888997f",
   "metadata": {},
   "outputs": [
    {
     "data": {
      "text/html": [
       "<div>\n",
       "<style scoped>\n",
       "    .dataframe tbody tr th:only-of-type {\n",
       "        vertical-align: middle;\n",
       "    }\n",
       "\n",
       "    .dataframe tbody tr th {\n",
       "        vertical-align: top;\n",
       "    }\n",
       "\n",
       "    .dataframe thead th {\n",
       "        text-align: right;\n",
       "    }\n",
       "</style>\n",
       "<table border=\"1\" class=\"dataframe\">\n",
       "  <thead>\n",
       "    <tr style=\"text-align: right;\">\n",
       "      <th></th>\n",
       "      <th>Ratings</th>\n",
       "      <th>Comment</th>\n",
       "      <th>Reviews</th>\n",
       "      <th>Real_Sentiment</th>\n",
       "    </tr>\n",
       "  </thead>\n",
       "  <tbody>\n",
       "    <tr>\n",
       "      <th>0</th>\n",
       "      <td>5</td>\n",
       "      <td>Super!</td>\n",
       "      <td>Great camera for pics and videos Battery life ...</td>\n",
       "      <td>Positive</td>\n",
       "    </tr>\n",
       "    <tr>\n",
       "      <th>1</th>\n",
       "      <td>5</td>\n",
       "      <td>Must buy!</td>\n",
       "      <td>Great device. Let me tell the Pros..1. Superb ...</td>\n",
       "      <td>Positive</td>\n",
       "    </tr>\n",
       "    <tr>\n",
       "      <th>2</th>\n",
       "      <td>5</td>\n",
       "      <td>Great product</td>\n",
       "      <td>Who all loves older size i.e., 4.7 inch type s...</td>\n",
       "      <td>Positive</td>\n",
       "    </tr>\n",
       "    <tr>\n",
       "      <th>3</th>\n",
       "      <td>5</td>\n",
       "      <td>Simply awesome</td>\n",
       "      <td>This iPhone SE is the best phone ever you get....</td>\n",
       "      <td>Positive</td>\n",
       "    </tr>\n",
       "    <tr>\n",
       "      <th>4</th>\n",
       "      <td>5</td>\n",
       "      <td>Classy product</td>\n",
       "      <td>This is my second iphone after iphone 4s. I’ve...</td>\n",
       "      <td>Positive</td>\n",
       "    </tr>\n",
       "    <tr>\n",
       "      <th>...</th>\n",
       "      <td>...</td>\n",
       "      <td>...</td>\n",
       "      <td>...</td>\n",
       "      <td>...</td>\n",
       "    </tr>\n",
       "    <tr>\n",
       "      <th>9708</th>\n",
       "      <td>5</td>\n",
       "      <td>Terrific purchase</td>\n",
       "      <td>Absolutely brilliantREAD MORE</td>\n",
       "      <td>Positive</td>\n",
       "    </tr>\n",
       "    <tr>\n",
       "      <th>9709</th>\n",
       "      <td>5</td>\n",
       "      <td>Classy product</td>\n",
       "      <td>Superb phone. This is my 4th iPhone, I feel SE...</td>\n",
       "      <td>Positive</td>\n",
       "    </tr>\n",
       "    <tr>\n",
       "      <th>9710</th>\n",
       "      <td>5</td>\n",
       "      <td>Awesome</td>\n",
       "      <td>very niceREAD MORE</td>\n",
       "      <td>Positive</td>\n",
       "    </tr>\n",
       "    <tr>\n",
       "      <th>9711</th>\n",
       "      <td>5</td>\n",
       "      <td>Super!</td>\n",
       "      <td>Loving it as of now. Good Product .READ MORE</td>\n",
       "      <td>Positive</td>\n",
       "    </tr>\n",
       "    <tr>\n",
       "      <th>9712</th>\n",
       "      <td>5</td>\n",
       "      <td>Terrific purchase</td>\n",
       "      <td>NiceElegant ElectricREAD MORE</td>\n",
       "      <td>Positive</td>\n",
       "    </tr>\n",
       "  </tbody>\n",
       "</table>\n",
       "<p>9713 rows × 4 columns</p>\n",
       "</div>"
      ],
      "text/plain": [
       "      Ratings            Comment  \\\n",
       "0           5             Super!   \n",
       "1           5          Must buy!   \n",
       "2           5      Great product   \n",
       "3           5     Simply awesome   \n",
       "4           5     Classy product   \n",
       "...       ...                ...   \n",
       "9708        5  Terrific purchase   \n",
       "9709        5     Classy product   \n",
       "9710        5            Awesome   \n",
       "9711        5             Super!   \n",
       "9712        5  Terrific purchase   \n",
       "\n",
       "                                                Reviews Real_Sentiment  \n",
       "0     Great camera for pics and videos Battery life ...       Positive  \n",
       "1     Great device. Let me tell the Pros..1. Superb ...       Positive  \n",
       "2     Who all loves older size i.e., 4.7 inch type s...       Positive  \n",
       "3     This iPhone SE is the best phone ever you get....       Positive  \n",
       "4     This is my second iphone after iphone 4s. I’ve...       Positive  \n",
       "...                                                 ...            ...  \n",
       "9708                      Absolutely brilliantREAD MORE       Positive  \n",
       "9709  Superb phone. This is my 4th iPhone, I feel SE...       Positive  \n",
       "9710                                 very niceREAD MORE       Positive  \n",
       "9711       Loving it as of now. Good Product .READ MORE       Positive  \n",
       "9712                      NiceElegant ElectricREAD MORE       Positive  \n",
       "\n",
       "[9713 rows x 4 columns]"
      ]
     },
     "execution_count": 7,
     "metadata": {},
     "output_type": "execute_result"
    }
   ],
   "source": [
    "dataset"
   ]
  },
  {
   "cell_type": "code",
   "execution_count": 8,
   "id": "313db421",
   "metadata": {},
   "outputs": [
    {
     "data": {
      "text/plain": [
       "array(['Positive', 'Neutral', 'Negative'], dtype=object)"
      ]
     },
     "execution_count": 8,
     "metadata": {},
     "output_type": "execute_result"
    }
   ],
   "source": [
    "pd.unique(dataset[\"Real_Sentiment\"])"
   ]
  },
  {
   "cell_type": "code",
   "execution_count": 9,
   "id": "f22a59f9",
   "metadata": {},
   "outputs": [
    {
     "data": {
      "text/html": [
       "<div>\n",
       "<style scoped>\n",
       "    .dataframe tbody tr th:only-of-type {\n",
       "        vertical-align: middle;\n",
       "    }\n",
       "\n",
       "    .dataframe tbody tr th {\n",
       "        vertical-align: top;\n",
       "    }\n",
       "\n",
       "    .dataframe thead th {\n",
       "        text-align: right;\n",
       "    }\n",
       "</style>\n",
       "<table border=\"1\" class=\"dataframe\">\n",
       "  <thead>\n",
       "    <tr style=\"text-align: right;\">\n",
       "      <th></th>\n",
       "      <th>Real_Sentiment</th>\n",
       "    </tr>\n",
       "  </thead>\n",
       "  <tbody>\n",
       "    <tr>\n",
       "      <th>Positive</th>\n",
       "      <td>8505</td>\n",
       "    </tr>\n",
       "    <tr>\n",
       "      <th>Negative</th>\n",
       "      <td>673</td>\n",
       "    </tr>\n",
       "    <tr>\n",
       "      <th>Neutral</th>\n",
       "      <td>535</td>\n",
       "    </tr>\n",
       "  </tbody>\n",
       "</table>\n",
       "</div>"
      ],
      "text/plain": [
       "          Real_Sentiment\n",
       "Positive            8505\n",
       "Negative             673\n",
       "Neutral              535"
      ]
     },
     "execution_count": 9,
     "metadata": {},
     "output_type": "execute_result"
    }
   ],
   "source": [
    "pd.DataFrame(dataset.Real_Sentiment.value_counts())"
   ]
  },
  {
   "cell_type": "code",
   "execution_count": 10,
   "id": "29bda4d7",
   "metadata": {},
   "outputs": [],
   "source": [
    "import re\n",
    "from spellchecker import SpellChecker\n",
    "from nltk.corpus import stopwords\n",
    "from nltk.stem import WordNetLemmatizer"
   ]
  },
  {
   "cell_type": "code",
   "execution_count": 11,
   "id": "0ee0170b",
   "metadata": {},
   "outputs": [],
   "source": [
    "import nltk\n",
    "#nltk.download('punkt')\n",
    "from nltk.tokenize import word_tokenize\n",
    "from nltk import pos_tag\n",
    "#nltk.download('stopwords')\n",
    "from nltk.corpus import stopwords\n",
    "#nltk.download('wordnet')\n",
    "from nltk.corpus import wordnet\n",
    "#nltk.download('averaged_perceptron_tagger')"
   ]
  },
  {
   "cell_type": "code",
   "execution_count": 12,
   "id": "68165485",
   "metadata": {},
   "outputs": [],
   "source": [
    "emoji_pattern = re.compile(\"[\"\n",
    "                           u\"\\U0001F600-\\U0001F64F\"  # emoticons\n",
    "                           u\"\\U0001F300-\\U0001F5FF\"  # symbols & pictographs\n",
    "                           u\"\\U0001F680-\\U0001F6FF\"  # transport & map symbols\n",
    "                           u\"\\U0001F1E0-\\U0001F1FF\"  # flags (iOS)\n",
    "                           u\"\\U00002702-\\U000027B0\"\n",
    "                           u\"\\U000024C2-\\U0001F251\"\n",
    "                           \"]+\", flags=re.UNICODE)\n",
    "\n",
    "url_pattern = re.compile(r'https?://\\S+|www\\.\\S+')\n",
    "\n",
    "spell = SpellChecker(distance=2)\n",
    "wordnet_lemmatizer = WordNetLemmatizer()"
   ]
  },
  {
   "cell_type": "code",
   "execution_count": 13,
   "id": "0edede63",
   "metadata": {},
   "outputs": [],
   "source": [
    "pos_dict = {'J':wordnet.ADJ, 'V':wordnet.VERB, 'N':wordnet.NOUN, 'R':wordnet.ADV}\n",
    "\n",
    "def token_stop_pos(text):\n",
    "    tags = pos_tag(word_tokenize(text))\n",
    "    newlist = []\n",
    "    for word, tag in tags:\n",
    "        if word.lower() not in set(stopwords.words('english')):\n",
    "            newlist.append(tuple([word, pos_dict.get(tag[0])]))\n",
    "    return newlist\n",
    "\n",
    "def lemmatize(pos_data):\n",
    "    lemma_rew = \" \"\n",
    "    for word, pos in pos_data:\n",
    "        if not pos: \n",
    "            lemma = word\n",
    "            lemma_rew = lemma_rew + \" \" + lemma\n",
    "        else:  \n",
    "            lemma = wordnet_lemmatizer.lemmatize(word, pos=pos)\n",
    "            lemma_rew = lemma_rew + \" \" + lemma\n",
    "    return lemma_rew"
   ]
  },
  {
   "cell_type": "code",
   "execution_count": 14,
   "id": "a299b166",
   "metadata": {},
   "outputs": [],
   "source": [
    "def data_clean(text):\n",
    "    #Removing READ MORE\n",
    "    text = text.replace('...READ MORE', '')\n",
    "    text = text.replace('READ MORE', '')\n",
    "    \n",
    "    #Removing Emojis\n",
    "    text = emoji_pattern.sub(r'', text)\n",
    "    \n",
    "    #Removing URL\n",
    "    text = url_pattern.sub(r'', text)\n",
    "    \n",
    "    #Removing puctuations signs and numbers, lower cases\n",
    "    text = re.sub('[^a-zA-Z]',' ',text).lower()\n",
    "    \n",
    "    #SpellChecker\n",
    "    corrected_text = []\n",
    "    misspelled_words = spell.unknown(text.split())\n",
    "    for word in text.split():\n",
    "        if word in misspelled_words:\n",
    "            corrected_text.append(spell.correction(word))\n",
    "        else:\n",
    "            corrected_text.append(word)\n",
    "    text = \" \".join(corrected_text)\n",
    "    \n",
    "    return text\n",
    "    \n",
    "    "
   ]
  },
  {
   "cell_type": "code",
   "execution_count": 15,
   "id": "4f3f3ede",
   "metadata": {},
   "outputs": [],
   "source": [
    "def clean2(text):\n",
    "    #Lemmatizar\n",
    "    text = lemmatize(text)\n",
    "    \n",
    "    #Tokenization\n",
    "    text =  text.replace('hr', '').replace('th', '').split()\n",
    "    \n",
    "    #Removing StopWords\n",
    "    text = [word for word in text if not word in stopwords.words('english')]\n",
    "    \n",
    "    text = \" \".join(text)\n",
    "    return text"
   ]
  },
  {
   "cell_type": "code",
   "execution_count": 16,
   "id": "720fbb1d",
   "metadata": {},
   "outputs": [],
   "source": [
    "dataset[\"Cleaned_Reviews\"] = dataset[\"Reviews\"].apply(data_clean)"
   ]
  },
  {
   "cell_type": "code",
   "execution_count": 17,
   "id": "66b04f04",
   "metadata": {},
   "outputs": [],
   "source": [
    "dataset[\"POS_tagged\"] = dataset[\"Cleaned_Reviews\"].apply(token_stop_pos)"
   ]
  },
  {
   "cell_type": "code",
   "execution_count": 18,
   "id": "3ce80060",
   "metadata": {},
   "outputs": [],
   "source": [
    "dataset[\"Cleaned_Reviews\"] = dataset[\"POS_tagged\"].apply(clean2)"
   ]
  },
  {
   "cell_type": "code",
   "execution_count": 19,
   "id": "40bca4b2",
   "metadata": {},
   "outputs": [
    {
     "data": {
      "text/html": [
       "<div>\n",
       "<style scoped>\n",
       "    .dataframe tbody tr th:only-of-type {\n",
       "        vertical-align: middle;\n",
       "    }\n",
       "\n",
       "    .dataframe tbody tr th {\n",
       "        vertical-align: top;\n",
       "    }\n",
       "\n",
       "    .dataframe thead th {\n",
       "        text-align: right;\n",
       "    }\n",
       "</style>\n",
       "<table border=\"1\" class=\"dataframe\">\n",
       "  <thead>\n",
       "    <tr style=\"text-align: right;\">\n",
       "      <th></th>\n",
       "      <th>Ratings</th>\n",
       "      <th>Comment</th>\n",
       "      <th>Reviews</th>\n",
       "      <th>Real_Sentiment</th>\n",
       "      <th>Cleaned_Reviews</th>\n",
       "      <th>POS_tagged</th>\n",
       "    </tr>\n",
       "  </thead>\n",
       "  <tbody>\n",
       "    <tr>\n",
       "      <th>0</th>\n",
       "      <td>5</td>\n",
       "      <td>Super!</td>\n",
       "      <td>Great camera for pics and videos Battery life ...</td>\n",
       "      <td>Positive</td>\n",
       "      <td>great camera pic video battery life good far s...</td>\n",
       "      <td>[(great, a), (camera, n), (pics, n), (videos, ...</td>\n",
       "    </tr>\n",
       "    <tr>\n",
       "      <th>1</th>\n",
       "      <td>5</td>\n",
       "      <td>Must buy!</td>\n",
       "      <td>Great device. Let me tell the Pros..1. Superb ...</td>\n",
       "      <td>Positive</td>\n",
       "      <td>great device let tell pro superb build quality...</td>\n",
       "      <td>[(great, a), (device, n), (let, v), (tell, v),...</td>\n",
       "    </tr>\n",
       "    <tr>\n",
       "      <th>2</th>\n",
       "      <td>5</td>\n",
       "      <td>Great product</td>\n",
       "      <td>Who all loves older size i.e., 4.7 inch type s...</td>\n",
       "      <td>Positive</td>\n",
       "      <td>love old size e inch type definitely go noing ...</td>\n",
       "      <td>[(loves, v), (older, a), (size, n), (e, v), (i...</td>\n",
       "    </tr>\n",
       "    <tr>\n",
       "      <th>3</th>\n",
       "      <td>5</td>\n",
       "      <td>Simply awesome</td>\n",
       "      <td>This iPhone SE is the best phone ever you get....</td>\n",
       "      <td>Positive</td>\n",
       "      <td>iphone se best phone ever get beautifully desi...</td>\n",
       "      <td>[(iphone, n), (se, n), (best, a), (phone, n), ...</td>\n",
       "    </tr>\n",
       "    <tr>\n",
       "      <th>4</th>\n",
       "      <td>5</td>\n",
       "      <td>Classy product</td>\n",
       "      <td>This is my second iphone after iphone 4s. I’ve...</td>\n",
       "      <td>Positive</td>\n",
       "      <td>second iphone iphone long time android user te...</td>\n",
       "      <td>[(second, a), (iphone, n), (iphone, n), (long,...</td>\n",
       "    </tr>\n",
       "    <tr>\n",
       "      <th>...</th>\n",
       "      <td>...</td>\n",
       "      <td>...</td>\n",
       "      <td>...</td>\n",
       "      <td>...</td>\n",
       "      <td>...</td>\n",
       "      <td>...</td>\n",
       "    </tr>\n",
       "    <tr>\n",
       "      <th>9708</th>\n",
       "      <td>5</td>\n",
       "      <td>Terrific purchase</td>\n",
       "      <td>Absolutely brilliantREAD MORE</td>\n",
       "      <td>Positive</td>\n",
       "      <td>absolutely brilliant</td>\n",
       "      <td>[(absolutely, r), (brilliant, a)]</td>\n",
       "    </tr>\n",
       "    <tr>\n",
       "      <th>9709</th>\n",
       "      <td>5</td>\n",
       "      <td>Classy product</td>\n",
       "      <td>Superb phone. This is my 4th iPhone, I feel SE...</td>\n",
       "      <td>Positive</td>\n",
       "      <td>superb phone iphone feel se innest pocket frie...</td>\n",
       "      <td>[(superb, n), (phone, n), (iphone, n), (feel, ...</td>\n",
       "    </tr>\n",
       "    <tr>\n",
       "      <th>9710</th>\n",
       "      <td>5</td>\n",
       "      <td>Awesome</td>\n",
       "      <td>very niceREAD MORE</td>\n",
       "      <td>Positive</td>\n",
       "      <td>nice</td>\n",
       "      <td>[(nice, a)]</td>\n",
       "    </tr>\n",
       "    <tr>\n",
       "      <th>9711</th>\n",
       "      <td>5</td>\n",
       "      <td>Super!</td>\n",
       "      <td>Loving it as of now. Good Product .READ MORE</td>\n",
       "      <td>Positive</td>\n",
       "      <td>love good product</td>\n",
       "      <td>[(loving, v), (good, a), (product, n)]</td>\n",
       "    </tr>\n",
       "    <tr>\n",
       "      <th>9712</th>\n",
       "      <td>5</td>\n",
       "      <td>Terrific purchase</td>\n",
       "      <td>NiceElegant ElectricREAD MORE</td>\n",
       "      <td>Positive</td>\n",
       "      <td>niceelegant electric</td>\n",
       "      <td>[(niceelegant, a), (electric, a)]</td>\n",
       "    </tr>\n",
       "  </tbody>\n",
       "</table>\n",
       "<p>9713 rows × 6 columns</p>\n",
       "</div>"
      ],
      "text/plain": [
       "      Ratings            Comment  \\\n",
       "0           5             Super!   \n",
       "1           5          Must buy!   \n",
       "2           5      Great product   \n",
       "3           5     Simply awesome   \n",
       "4           5     Classy product   \n",
       "...       ...                ...   \n",
       "9708        5  Terrific purchase   \n",
       "9709        5     Classy product   \n",
       "9710        5            Awesome   \n",
       "9711        5             Super!   \n",
       "9712        5  Terrific purchase   \n",
       "\n",
       "                                                Reviews Real_Sentiment  \\\n",
       "0     Great camera for pics and videos Battery life ...       Positive   \n",
       "1     Great device. Let me tell the Pros..1. Superb ...       Positive   \n",
       "2     Who all loves older size i.e., 4.7 inch type s...       Positive   \n",
       "3     This iPhone SE is the best phone ever you get....       Positive   \n",
       "4     This is my second iphone after iphone 4s. I’ve...       Positive   \n",
       "...                                                 ...            ...   \n",
       "9708                      Absolutely brilliantREAD MORE       Positive   \n",
       "9709  Superb phone. This is my 4th iPhone, I feel SE...       Positive   \n",
       "9710                                 very niceREAD MORE       Positive   \n",
       "9711       Loving it as of now. Good Product .READ MORE       Positive   \n",
       "9712                      NiceElegant ElectricREAD MORE       Positive   \n",
       "\n",
       "                                        Cleaned_Reviews  \\\n",
       "0     great camera pic video battery life good far s...   \n",
       "1     great device let tell pro superb build quality...   \n",
       "2     love old size e inch type definitely go noing ...   \n",
       "3     iphone se best phone ever get beautifully desi...   \n",
       "4     second iphone iphone long time android user te...   \n",
       "...                                                 ...   \n",
       "9708                               absolutely brilliant   \n",
       "9709  superb phone iphone feel se innest pocket frie...   \n",
       "9710                                               nice   \n",
       "9711                                  love good product   \n",
       "9712                               niceelegant electric   \n",
       "\n",
       "                                             POS_tagged  \n",
       "0     [(great, a), (camera, n), (pics, n), (videos, ...  \n",
       "1     [(great, a), (device, n), (let, v), (tell, v),...  \n",
       "2     [(loves, v), (older, a), (size, n), (e, v), (i...  \n",
       "3     [(iphone, n), (se, n), (best, a), (phone, n), ...  \n",
       "4     [(second, a), (iphone, n), (iphone, n), (long,...  \n",
       "...                                                 ...  \n",
       "9708                  [(absolutely, r), (brilliant, a)]  \n",
       "9709  [(superb, n), (phone, n), (iphone, n), (feel, ...  \n",
       "9710                                        [(nice, a)]  \n",
       "9711             [(loving, v), (good, a), (product, n)]  \n",
       "9712                  [(niceelegant, a), (electric, a)]  \n",
       "\n",
       "[9713 rows x 6 columns]"
      ]
     },
     "execution_count": 19,
     "metadata": {},
     "output_type": "execute_result"
    }
   ],
   "source": [
    "dataset"
   ]
  },
  {
   "cell_type": "code",
   "execution_count": 20,
   "id": "a1da9d98",
   "metadata": {},
   "outputs": [],
   "source": [
    "from textblob import TextBlob"
   ]
  },
  {
   "cell_type": "code",
   "execution_count": 21,
   "id": "e0859baf",
   "metadata": {},
   "outputs": [],
   "source": [
    "# function to calculate subjectivity \n",
    "def getSubjectivity(review):\n",
    "    return TextBlob(review).sentiment.subjectivity\n",
    "\n",
    "# function to calculate polarity\n",
    "def getPolarity(review):\n",
    "    return TextBlob(review).sentiment.polarity\n",
    "\n",
    "# function to analyze the reviews\n",
    "def analysis(score):\n",
    "    if score < 0:\n",
    "        return 'Negative'\n",
    "    elif score == 0:\n",
    "        return 'Neutral'\n",
    "    else:\n",
    "        return 'Positive'"
   ]
  },
  {
   "cell_type": "code",
   "execution_count": 22,
   "id": "3d256098",
   "metadata": {},
   "outputs": [
    {
     "data": {
      "text/plain": [
       "0.7"
      ]
     },
     "execution_count": 22,
     "metadata": {},
     "output_type": "execute_result"
    }
   ],
   "source": [
    "getPolarity('good')"
   ]
  },
  {
   "cell_type": "code",
   "execution_count": 23,
   "id": "7a2465f0",
   "metadata": {},
   "outputs": [
    {
     "data": {
      "text/html": [
       "<div>\n",
       "<style scoped>\n",
       "    .dataframe tbody tr th:only-of-type {\n",
       "        vertical-align: middle;\n",
       "    }\n",
       "\n",
       "    .dataframe tbody tr th {\n",
       "        vertical-align: top;\n",
       "    }\n",
       "\n",
       "    .dataframe thead th {\n",
       "        text-align: right;\n",
       "    }\n",
       "</style>\n",
       "<table border=\"1\" class=\"dataframe\">\n",
       "  <thead>\n",
       "    <tr style=\"text-align: right;\">\n",
       "      <th></th>\n",
       "      <th>Ratings</th>\n",
       "      <th>Comment</th>\n",
       "      <th>Reviews</th>\n",
       "      <th>Real_Sentiment</th>\n",
       "      <th>Cleaned_Reviews</th>\n",
       "      <th>POS_tagged</th>\n",
       "      <th>Polarity</th>\n",
       "      <th>Analysis</th>\n",
       "    </tr>\n",
       "  </thead>\n",
       "  <tbody>\n",
       "    <tr>\n",
       "      <th>0</th>\n",
       "      <td>5</td>\n",
       "      <td>Super!</td>\n",
       "      <td>Great camera for pics and videos Battery life ...</td>\n",
       "      <td>Positive</td>\n",
       "      <td>great camera pic video battery life good far s...</td>\n",
       "      <td>[(great, a), (camera, n), (pics, n), (videos, ...</td>\n",
       "      <td>0.350000</td>\n",
       "      <td>Positive</td>\n",
       "    </tr>\n",
       "    <tr>\n",
       "      <th>1</th>\n",
       "      <td>5</td>\n",
       "      <td>Must buy!</td>\n",
       "      <td>Great device. Let me tell the Pros..1. Superb ...</td>\n",
       "      <td>Positive</td>\n",
       "      <td>great device let tell pro superb build quality...</td>\n",
       "      <td>[(great, a), (device, n), (let, v), (tell, v),...</td>\n",
       "      <td>0.758333</td>\n",
       "      <td>Positive</td>\n",
       "    </tr>\n",
       "    <tr>\n",
       "      <th>2</th>\n",
       "      <td>5</td>\n",
       "      <td>Great product</td>\n",
       "      <td>Who all loves older size i.e., 4.7 inch type s...</td>\n",
       "      <td>Positive</td>\n",
       "      <td>love old size e inch type definitely go noing ...</td>\n",
       "      <td>[(loves, v), (older, a), (size, n), (e, v), (i...</td>\n",
       "      <td>0.400000</td>\n",
       "      <td>Positive</td>\n",
       "    </tr>\n",
       "    <tr>\n",
       "      <th>3</th>\n",
       "      <td>5</td>\n",
       "      <td>Simply awesome</td>\n",
       "      <td>This iPhone SE is the best phone ever you get....</td>\n",
       "      <td>Positive</td>\n",
       "      <td>iphone se best phone ever get beautifully desi...</td>\n",
       "      <td>[(iphone, n), (se, n), (best, a), (phone, n), ...</td>\n",
       "      <td>0.453030</td>\n",
       "      <td>Positive</td>\n",
       "    </tr>\n",
       "    <tr>\n",
       "      <th>4</th>\n",
       "      <td>5</td>\n",
       "      <td>Classy product</td>\n",
       "      <td>This is my second iphone after iphone 4s. I’ve...</td>\n",
       "      <td>Positive</td>\n",
       "      <td>second iphone iphone long time android user te...</td>\n",
       "      <td>[(second, a), (iphone, n), (iphone, n), (long,...</td>\n",
       "      <td>0.278571</td>\n",
       "      <td>Positive</td>\n",
       "    </tr>\n",
       "  </tbody>\n",
       "</table>\n",
       "</div>"
      ],
      "text/plain": [
       "   Ratings         Comment                                            Reviews  \\\n",
       "0        5          Super!  Great camera for pics and videos Battery life ...   \n",
       "1        5       Must buy!  Great device. Let me tell the Pros..1. Superb ...   \n",
       "2        5   Great product  Who all loves older size i.e., 4.7 inch type s...   \n",
       "3        5  Simply awesome  This iPhone SE is the best phone ever you get....   \n",
       "4        5  Classy product  This is my second iphone after iphone 4s. I’ve...   \n",
       "\n",
       "  Real_Sentiment                                    Cleaned_Reviews  \\\n",
       "0       Positive  great camera pic video battery life good far s...   \n",
       "1       Positive  great device let tell pro superb build quality...   \n",
       "2       Positive  love old size e inch type definitely go noing ...   \n",
       "3       Positive  iphone se best phone ever get beautifully desi...   \n",
       "4       Positive  second iphone iphone long time android user te...   \n",
       "\n",
       "                                          POS_tagged  Polarity  Analysis  \n",
       "0  [(great, a), (camera, n), (pics, n), (videos, ...  0.350000  Positive  \n",
       "1  [(great, a), (device, n), (let, v), (tell, v),...  0.758333  Positive  \n",
       "2  [(loves, v), (older, a), (size, n), (e, v), (i...  0.400000  Positive  \n",
       "3  [(iphone, n), (se, n), (best, a), (phone, n), ...  0.453030  Positive  \n",
       "4  [(second, a), (iphone, n), (iphone, n), (long,...  0.278571  Positive  "
      ]
     },
     "execution_count": 23,
     "metadata": {},
     "output_type": "execute_result"
    }
   ],
   "source": [
    "dataset['Polarity'] = dataset['Cleaned_Reviews'].apply(getPolarity) \n",
    "dataset['Analysis'] = dataset['Polarity'].apply(analysis)\n",
    "dataset.head()"
   ]
  },
  {
   "cell_type": "code",
   "execution_count": 24,
   "id": "2c718094",
   "metadata": {},
   "outputs": [
    {
     "data": {
      "text/plain": [
       "Positive    7985\n",
       "Neutral     1101\n",
       "Negative     627\n",
       "Name: Analysis, dtype: int64"
      ]
     },
     "execution_count": 24,
     "metadata": {},
     "output_type": "execute_result"
    }
   ],
   "source": [
    "tb_counts = dataset.Analysis.value_counts()\n",
    "tb_counts"
   ]
  },
  {
   "cell_type": "code",
   "execution_count": 25,
   "id": "37d73409",
   "metadata": {},
   "outputs": [],
   "source": [
    "from sklearn.metrics import classification_report, confusion_matrix, accuracy_score\n",
    "import seaborn as sns\n",
    "import matplotlib.pyplot as plt"
   ]
  },
  {
   "cell_type": "code",
   "execution_count": 26,
   "id": "8a4cdf0b",
   "metadata": {},
   "outputs": [
    {
     "data": {
      "image/png": "[encoded data removed]",
      "text/plain": [
       "<Figure size 720x504 with 1 Axes>"
      ]
     },
     "metadata": {},
     "output_type": "display_data"
    }
   ],
   "source": [
    "tb_count= dataset.Analysis.value_counts()\n",
    "plt.figure(figsize=(10, 7))\n",
    "plt.title(\"TextBlob\")\n",
    "plt.pie(tb_counts.values, labels = tb_counts.index, explode = (0, 0, 0.25), autopct='%1.1f%%', shadow=False)\n",
    "plt.show()"
   ]
  },
  {
   "cell_type": "code",
   "execution_count": 27,
   "id": "f7feb4c3",
   "metadata": {},
   "outputs": [],
   "source": [
    "cm = confusion_matrix(dataset['Real_Sentiment'],dataset['Analysis'])"
   ]
  },
  {
   "cell_type": "code",
   "execution_count": 28,
   "id": "688343b7",
   "metadata": {
    "scrolled": false
   },
   "outputs": [
    {
     "data": {
      "text/plain": [
       "Text(0.5, 15.0, 'Predicted label')"
      ]
     },
     "execution_count": 28,
     "metadata": {},
     "output_type": "execute_result"
    },
    {
     "data": {
      "image/png": "[encoded data removed]",
      "text/plain": [
       "<Figure size 432x288 with 2 Axes>"
      ]
     },
     "metadata": {
      "needs_background": "light"
     },
     "output_type": "display_data"
    }
   ],
   "source": [
    "p = sns.heatmap(pd.DataFrame(cm), annot=True, cmap=\"YlGnBu\" ,fmt='g')\n",
    "plt.title('TextBlob Confusion matrix', y=1.1)\n",
    "plt.ylabel('Actual label')\n",
    "plt.xlabel('Predicted label')"
   ]
  },
  {
   "cell_type": "code",
   "execution_count": 29,
   "id": "4a7a9459",
   "metadata": {
    "scrolled": true
   },
   "outputs": [
    {
     "name": "stdout",
     "output_type": "stream",
     "text": [
      "              precision    recall  f1-score   support\n",
      "\n",
      "    Negative       0.42      0.39      0.40       673\n",
      "     Neutral       0.07      0.14      0.09       535\n",
      "    Positive       0.93      0.87      0.90      8505\n",
      "\n",
      "    accuracy                           0.80      9713\n",
      "   macro avg       0.47      0.47      0.47      9713\n",
      "weighted avg       0.85      0.80      0.82      9713\n",
      "\n",
      "0.7978997220220323\n"
     ]
    }
   ],
   "source": [
    "print(classification_report(dataset['Real_Sentiment'],dataset['Analysis']))\n",
    "print(accuracy_score(dataset['Real_Sentiment'],dataset['Analysis']))"
   ]
  },
  {
   "cell_type": "code",
   "execution_count": null,
   "id": "b445c74c",
   "metadata": {},
   "outputs": [],
   "source": []
  },
  {
   "cell_type": "code",
   "execution_count": 30,
   "id": "61daa63b",
   "metadata": {},
   "outputs": [],
   "source": [
    "from vaderSentiment.vaderSentiment import SentimentIntensityAnalyzer\n",
    "analyzer = SentimentIntensityAnalyzer()"
   ]
  },
  {
   "cell_type": "code",
   "execution_count": 66,
   "id": "0bbd1805",
   "metadata": {},
   "outputs": [],
   "source": [
    "def vadersentimentanalysis(review):\n",
    "    vs = analyzer.polarity_scores(review)\n",
    "    return vs\n",
    "\n",
    "#Aqui se modificaron los umbrales\n",
    "def vader_analysis(score):\n",
    "    if score < 0:\n",
    "        return 'Negative'\n",
    "    elif score == 0:\n",
    "        return 'Neutral'\n",
    "    else:\n",
    "        return 'Positive'\n",
    "    \n",
    "# def vader_analysis(compound):\n",
    "#     if compound >= 0.5:\n",
    "#         return 'Positive'\n",
    "#     elif compound <= -0.5 :\n",
    "#         return 'Negative'\n",
    "#     else:\n",
    "#         return 'Neutral'"
   ]
  },
  {
   "cell_type": "code",
   "execution_count": 93,
   "id": "841be81c",
   "metadata": {},
   "outputs": [
    {
     "data": {
      "text/plain": [
       "{'neg': 0.99, 'neu': 0.01, 'pos': 0.0, 'compound': -0.9996}"
      ]
     },
     "execution_count": 93,
     "metadata": {},
     "output_type": "execute_result"
    }
   ],
   "source": [
    "vadersentimentanalysis('bad bad bad bad bad bad bad bad bad bad bad bad bad bad bad bad abd bad bad bad bad bad bad bad bad bad bad bad bad bad bad bad bad bad bad bad bad bad bad bad bad bad bad bad bad bad abd bad bad bad bad bad bad bad bad bad bad bad bad bad')"
   ]
  },
  {
   "cell_type": "code",
   "execution_count": 32,
   "id": "e240ce03",
   "metadata": {},
   "outputs": [],
   "source": [
    "dataset['Vader_Sentiment'] = dataset['Cleaned_Reviews'].apply(vadersentimentanalysis)\n",
    "dataset['Vader_Analysis'] = dataset['Vader_Sentiment'].apply(vader_analysis)"
   ]
  },
  {
   "cell_type": "code",
   "execution_count": 33,
   "id": "34da4193",
   "metadata": {},
   "outputs": [
    {
     "data": {
      "text/plain": [
       "Positive    8001\n",
       "Neutral     1010\n",
       "Negative     702\n",
       "Name: Vader_Analysis, dtype: int64"
      ]
     },
     "execution_count": 33,
     "metadata": {},
     "output_type": "execute_result"
    }
   ],
   "source": [
    "vader_counts = dataset['Vader_Analysis'].value_counts()\n",
    "vader_counts"
   ]
  },
  {
   "cell_type": "code",
   "execution_count": 34,
   "id": "54950603",
   "metadata": {},
   "outputs": [
    {
     "data": {
      "image/png": "[encoded data removed]",
      "text/plain": [
       "<Figure size 720x504 with 1 Axes>"
      ]
     },
     "metadata": {},
     "output_type": "display_data"
    }
   ],
   "source": [
    "vader_counts= dataset['Vader_Analysis'].value_counts()\n",
    "plt.figure(figsize=(10, 7))\n",
    "plt.title(\"VADER\")\n",
    "plt.pie(vader_counts.values, labels = vader_counts.index, explode = (0.1, 0, 0), autopct='%1.1f%%', shadow=False)\n",
    "plt.show()"
   ]
  },
  {
   "cell_type": "code",
   "execution_count": 35,
   "id": "857e19c8",
   "metadata": {},
   "outputs": [],
   "source": [
    "cm = confusion_matrix(dataset['Real_Sentiment'],dataset['Vader_Analysis'])"
   ]
  },
  {
   "cell_type": "code",
   "execution_count": 36,
   "id": "882e4f24",
   "metadata": {
    "scrolled": true
   },
   "outputs": [
    {
     "data": {
      "text/plain": [
       "Text(0.5, 15.0, 'Predicted label')"
      ]
     },
     "execution_count": 36,
     "metadata": {},
     "output_type": "execute_result"
    },
    {
     "data": {
      "image/png": "[encoded data removed]",
      "text/plain": [
       "<Figure size 432x288 with 2 Axes>"
      ]
     },
     "metadata": {
      "needs_background": "light"
     },
     "output_type": "display_data"
    }
   ],
   "source": [
    "p = sns.heatmap(pd.DataFrame(cm), annot=True, cmap=\"YlGnBu\" ,fmt='g')\n",
    "plt.title('VADER Confusion matrix', y=1.1)\n",
    "plt.ylabel('Actual label')\n",
    "plt.xlabel('Predicted label')"
   ]
  },
  {
   "cell_type": "code",
   "execution_count": 37,
   "id": "9d299cf3",
   "metadata": {
    "scrolled": false
   },
   "outputs": [
    {
     "name": "stdout",
     "output_type": "stream",
     "text": [
      "              precision    recall  f1-score   support\n",
      "\n",
      "    Negative       0.51      0.53      0.52       673\n",
      "     Neutral       0.08      0.15      0.10       535\n",
      "    Positive       0.94      0.88      0.91      8505\n",
      "\n",
      "    accuracy                           0.82      9713\n",
      "   macro avg       0.51      0.52      0.51      9713\n",
      "weighted avg       0.86      0.82      0.84      9713\n",
      "\n",
      "0.8185936373931844\n"
     ]
    }
   ],
   "source": [
    "print(classification_report(dataset['Real_Sentiment'],dataset['Vader_Analysis']))\n",
    "print(accuracy_score(dataset['Real_Sentiment'],dataset['Vader_Analysis']))"
   ]
  },
  {
   "cell_type": "code",
   "execution_count": 38,
   "id": "8bc021e3",
   "metadata": {},
   "outputs": [],
   "source": [
    "from nltk.corpus import sentiwordnet as swn"
   ]
  },
  {
   "cell_type": "code",
   "execution_count": 39,
   "id": "b94f9656",
   "metadata": {},
   "outputs": [],
   "source": [
    "def sentiwordnetanalysis(pos_data):\n",
    "    sentiment = 0\n",
    "    tokens_count = 0\n",
    "    for word, pos in pos_data:\n",
    "        \n",
    "        if not pos:\n",
    "            continue\n",
    "            \n",
    "        lemma = wordnet_lemmatizer.lemmatize(word, pos=pos)\n",
    "        \n",
    "        if not lemma:\n",
    "            continue\n",
    "        \n",
    "        synsets = wordnet.synsets(lemma, pos=pos)\n",
    "        \n",
    "        if not synsets:\n",
    "            continue\n",
    "\n",
    "        # Take the first sense, the most common\n",
    "        synset = synsets[0]\n",
    "        swn_synset = swn.senti_synset(synset.name())\n",
    "        sentiment += swn_synset.pos_score() - swn_synset.neg_score()\n",
    "        tokens_count += 1\n",
    "        # print(swn_synset.pos_score(),swn_synset.neg_score(),swn_synset.obj_score())\n",
    "        \n",
    "#     if not tokens_count:\n",
    "#         return 0\n",
    "    if sentiment < 0:\n",
    "        return 'Negative'\n",
    "    elif sentiment == 0:\n",
    "        return 'Neutral'\n",
    "    else:\n",
    "        return 'Positive'"
   ]
  },
  {
   "cell_type": "code",
   "execution_count": 40,
   "id": "ed85751c",
   "metadata": {},
   "outputs": [],
   "source": [
    "dataset['SWN_analysis'] = dataset['POS_tagged'].apply(sentiwordnetanalysis)"
   ]
  },
  {
   "cell_type": "code",
   "execution_count": 41,
   "id": "64b0b7d3",
   "metadata": {},
   "outputs": [
    {
     "data": {
      "text/plain": [
       "Positive    6898\n",
       "Neutral     1548\n",
       "Negative    1267\n",
       "Name: SWN_analysis, dtype: int64"
      ]
     },
     "execution_count": 41,
     "metadata": {},
     "output_type": "execute_result"
    }
   ],
   "source": [
    "swn_counts= dataset['SWN_analysis'].value_counts()\n",
    "swn_counts"
   ]
  },
  {
   "cell_type": "code",
   "execution_count": null,
   "id": "adc80957",
   "metadata": {},
   "outputs": [],
   "source": []
  },
  {
   "cell_type": "code",
   "execution_count": 42,
   "id": "10fc222f",
   "metadata": {
    "scrolled": false
   },
   "outputs": [
    {
     "data": {
      "image/png": "[encoded data removed]",
      "text/plain": [
       "<Figure size 720x504 with 1 Axes>"
      ]
     },
     "metadata": {},
     "output_type": "display_data"
    }
   ],
   "source": [
    "swn_counts= dataset['SWN_analysis'].value_counts()\n",
    "plt.figure(figsize=(10, 7))\n",
    "plt.title(\"SentiWordNet\")\n",
    "plt.pie(swn_counts.values, labels = swn_counts.index, autopct='%1.1f%%', shadow=False)\n",
    "plt.show()"
   ]
  },
  {
   "cell_type": "code",
   "execution_count": 43,
   "id": "05eecb39",
   "metadata": {},
   "outputs": [],
   "source": [
    "cm = confusion_matrix(dataset['Real_Sentiment'],dataset['SWN_analysis'])"
   ]
  },
  {
   "cell_type": "code",
   "execution_count": 44,
   "id": "e9c73ab6",
   "metadata": {
    "scrolled": true
   },
   "outputs": [
    {
     "data": {
      "text/plain": [
       "Text(0.5, 15.0, 'Predicted label')"
      ]
     },
     "execution_count": 44,
     "metadata": {},
     "output_type": "execute_result"
    },
    {
     "data": {
      "image/png": "[encoded data removed]",
      "text/plain": [
       "<Figure size 432x288 with 2 Axes>"
      ]
     },
     "metadata": {
      "needs_background": "light"
     },
     "output_type": "display_data"
    }
   ],
   "source": [
    "p = sns.heatmap(pd.DataFrame(cm), annot=True, cmap=\"YlGnBu\" ,fmt='g')\n",
    "plt.title('SentiWordNet Confusion matrix', y=1.1)\n",
    "plt.ylabel('Actual label')\n",
    "plt.xlabel('Predicted label')"
   ]
  },
  {
   "cell_type": "code",
   "execution_count": 45,
   "id": "71d8fcd9",
   "metadata": {
    "scrolled": false
   },
   "outputs": [
    {
     "name": "stdout",
     "output_type": "stream",
     "text": [
      "              precision    recall  f1-score   support\n",
      "\n",
      "    Negative       0.25      0.47      0.33       673\n",
      "     Neutral       0.04      0.12      0.06       535\n",
      "    Positive       0.92      0.74      0.82      8505\n",
      "\n",
      "    accuracy                           0.69      9713\n",
      "   macro avg       0.40      0.44      0.40      9713\n",
      "weighted avg       0.82      0.69      0.75      9713\n",
      "\n",
      "0.6910326366725008\n"
     ]
    }
   ],
   "source": [
    "print(classification_report(dataset['Real_Sentiment'],dataset['SWN_analysis']))\n",
    "print(accuracy_score(dataset['Real_Sentiment'],dataset['SWN_analysis']))"
   ]
  },
  {
   "cell_type": "code",
   "execution_count": 46,
   "id": "1a161d1b",
   "metadata": {},
   "outputs": [
    {
     "data": {
      "image/png": "[encoded data removed]",
      "text/plain": [
       "<Figure size 720x504 with 1 Axes>"
      ]
     },
     "metadata": {},
     "output_type": "display_data"
    }
   ],
   "source": [
    "\n",
    "real = dataset.Real_Sentiment.value_counts()\n",
    "plt.figure(figsize=(10, 7))\n",
    "plt.title(\"Real\")\n",
    "plt.pie(real, labels = swn_counts.index, autopct='%1.1f%%', shadow=False)\n",
    "plt.show()"
   ]
  },
  {
   "cell_type": "code",
   "execution_count": 47,
   "id": "e8d1ee20",
   "metadata": {},
   "outputs": [
    {
     "data": {
      "image/png": "[encoded data removed]",
      "text/plain": [
       "<Figure size 1080x504 with 3 Axes>"
      ]
     },
     "metadata": {},
     "output_type": "display_data"
    }
   ],
   "source": [
    "plt.figure(figsize=(15,7))\n",
    "plt.subplot(1,3,1)\n",
    "plt.title(\"TextBlob results\")\n",
    "plt.pie(tb_counts.values, labels = tb_counts.index, explode = (0, 0, 0.25), autopct='%1.1f%%', shadow=False)\n",
    "plt.subplot(1,3,2)\n",
    "plt.title(\"VADER results\")\n",
    "plt.pie(vader_counts.values, labels = vader_counts.index, explode = (0, 0, 0.25), autopct='%1.1f%%', shadow=False)\n",
    "plt.subplot(1,3,3)\n",
    "plt.title(\"SentiWordNet results\")\n",
    "plt.pie(swn_counts.values, labels = swn_counts.index, autopct='%1.1f%%', shadow=False)\n",
    "plt.show()"
   ]
  },
  {
   "cell_type": "markdown",
   "id": "57c55248",
   "metadata": {},
   "source": [
    "# Predicción"
   ]
  },
  {
   "cell_type": "code",
   "execution_count": 48,
   "id": "e9f42c7d",
   "metadata": {
    "scrolled": true
   },
   "outputs": [
    {
     "data": {
      "text/html": [
       "<div>\n",
       "<style scoped>\n",
       "    .dataframe tbody tr th:only-of-type {\n",
       "        vertical-align: middle;\n",
       "    }\n",
       "\n",
       "    .dataframe tbody tr th {\n",
       "        vertical-align: top;\n",
       "    }\n",
       "\n",
       "    .dataframe thead th {\n",
       "        text-align: right;\n",
       "    }\n",
       "</style>\n",
       "<table border=\"1\" class=\"dataframe\">\n",
       "  <thead>\n",
       "    <tr style=\"text-align: right;\">\n",
       "      <th></th>\n",
       "      <th>Ratings</th>\n",
       "      <th>Comment</th>\n",
       "      <th>Reviews</th>\n",
       "      <th>Real_Sentiment</th>\n",
       "      <th>Cleaned_Reviews</th>\n",
       "      <th>POS_tagged</th>\n",
       "      <th>Polarity</th>\n",
       "      <th>Analysis</th>\n",
       "      <th>Vader_Sentiment</th>\n",
       "      <th>Vader_Analysis</th>\n",
       "      <th>SWN_analysis</th>\n",
       "    </tr>\n",
       "  </thead>\n",
       "  <tbody>\n",
       "    <tr>\n",
       "      <th>0</th>\n",
       "      <td>5</td>\n",
       "      <td>Super!</td>\n",
       "      <td>Great camera for pics and videos Battery life ...</td>\n",
       "      <td>Positive</td>\n",
       "      <td>great camera pic video battery life good far s...</td>\n",
       "      <td>[(great, a), (camera, n), (pics, n), (videos, ...</td>\n",
       "      <td>0.350000</td>\n",
       "      <td>Positive</td>\n",
       "      <td>0.9485</td>\n",
       "      <td>Positive</td>\n",
       "      <td>Positive</td>\n",
       "    </tr>\n",
       "    <tr>\n",
       "      <th>1</th>\n",
       "      <td>5</td>\n",
       "      <td>Must buy!</td>\n",
       "      <td>Great device. Let me tell the Pros..1. Superb ...</td>\n",
       "      <td>Positive</td>\n",
       "      <td>great device let tell pro superb build quality...</td>\n",
       "      <td>[(great, a), (device, n), (let, v), (tell, v),...</td>\n",
       "      <td>0.758333</td>\n",
       "      <td>Positive</td>\n",
       "      <td>0.9917</td>\n",
       "      <td>Positive</td>\n",
       "      <td>Positive</td>\n",
       "    </tr>\n",
       "    <tr>\n",
       "      <th>2</th>\n",
       "      <td>5</td>\n",
       "      <td>Great product</td>\n",
       "      <td>Who all loves older size i.e., 4.7 inch type s...</td>\n",
       "      <td>Positive</td>\n",
       "      <td>love old size e inch type definitely go noing ...</td>\n",
       "      <td>[(loves, v), (older, a), (size, n), (e, v), (i...</td>\n",
       "      <td>0.400000</td>\n",
       "      <td>Positive</td>\n",
       "      <td>0.9217</td>\n",
       "      <td>Positive</td>\n",
       "      <td>Positive</td>\n",
       "    </tr>\n",
       "    <tr>\n",
       "      <th>3</th>\n",
       "      <td>5</td>\n",
       "      <td>Simply awesome</td>\n",
       "      <td>This iPhone SE is the best phone ever you get....</td>\n",
       "      <td>Positive</td>\n",
       "      <td>iphone se best phone ever get beautifully desi...</td>\n",
       "      <td>[(iphone, n), (se, n), (best, a), (phone, n), ...</td>\n",
       "      <td>0.453030</td>\n",
       "      <td>Positive</td>\n",
       "      <td>0.9799</td>\n",
       "      <td>Positive</td>\n",
       "      <td>Positive</td>\n",
       "    </tr>\n",
       "    <tr>\n",
       "      <th>4</th>\n",
       "      <td>5</td>\n",
       "      <td>Classy product</td>\n",
       "      <td>This is my second iphone after iphone 4s. I’ve...</td>\n",
       "      <td>Positive</td>\n",
       "      <td>second iphone iphone long time android user te...</td>\n",
       "      <td>[(second, a), (iphone, n), (iphone, n), (long,...</td>\n",
       "      <td>0.278571</td>\n",
       "      <td>Positive</td>\n",
       "      <td>0.8655</td>\n",
       "      <td>Positive</td>\n",
       "      <td>Positive</td>\n",
       "    </tr>\n",
       "  </tbody>\n",
       "</table>\n",
       "</div>"
      ],
      "text/plain": [
       "   Ratings         Comment                                            Reviews  \\\n",
       "0        5          Super!  Great camera for pics and videos Battery life ...   \n",
       "1        5       Must buy!  Great device. Let me tell the Pros..1. Superb ...   \n",
       "2        5   Great product  Who all loves older size i.e., 4.7 inch type s...   \n",
       "3        5  Simply awesome  This iPhone SE is the best phone ever you get....   \n",
       "4        5  Classy product  This is my second iphone after iphone 4s. I’ve...   \n",
       "\n",
       "  Real_Sentiment                                    Cleaned_Reviews  \\\n",
       "0       Positive  great camera pic video battery life good far s...   \n",
       "1       Positive  great device let tell pro superb build quality...   \n",
       "2       Positive  love old size e inch type definitely go noing ...   \n",
       "3       Positive  iphone se best phone ever get beautifully desi...   \n",
       "4       Positive  second iphone iphone long time android user te...   \n",
       "\n",
       "                                          POS_tagged  Polarity  Analysis  \\\n",
       "0  [(great, a), (camera, n), (pics, n), (videos, ...  0.350000  Positive   \n",
       "1  [(great, a), (device, n), (let, v), (tell, v),...  0.758333  Positive   \n",
       "2  [(loves, v), (older, a), (size, n), (e, v), (i...  0.400000  Positive   \n",
       "3  [(iphone, n), (se, n), (best, a), (phone, n), ...  0.453030  Positive   \n",
       "4  [(second, a), (iphone, n), (iphone, n), (long,...  0.278571  Positive   \n",
       "\n",
       "   Vader_Sentiment Vader_Analysis SWN_analysis  \n",
       "0           0.9485       Positive     Positive  \n",
       "1           0.9917       Positive     Positive  \n",
       "2           0.9217       Positive     Positive  \n",
       "3           0.9799       Positive     Positive  \n",
       "4           0.8655       Positive     Positive  "
      ]
     },
     "execution_count": 48,
     "metadata": {},
     "output_type": "execute_result"
    }
   ],
   "source": [
    "original_dataset.head()"
   ]
  },
  {
   "cell_type": "code",
   "execution_count": 49,
   "id": "ec077267",
   "metadata": {},
   "outputs": [],
   "source": [
    "def target(label):\n",
    "    if label == 'Positive':\n",
    "        x = 2\n",
    "    elif label == 'Negative':\n",
    "        x = 0\n",
    "    else:\n",
    "        x = 1\n",
    "        \n",
    "    return x"
   ]
  },
  {
   "cell_type": "code",
   "execution_count": 50,
   "id": "c4956a4c",
   "metadata": {},
   "outputs": [],
   "source": [
    "dataset[\"Tag\"] = dataset[\"Real_Sentiment\"].apply(target)"
   ]
  },
  {
   "cell_type": "code",
   "execution_count": 51,
   "id": "e191aa2e",
   "metadata": {},
   "outputs": [],
   "source": [
    "processed_features = original_dataset['Cleaned_Reviews']\n",
    "labels = original_dataset['Real_Sentiment']\n",
    "#labels = dataset['Tag']"
   ]
  },
  {
   "cell_type": "code",
   "execution_count": null,
   "id": "1263ed49",
   "metadata": {},
   "outputs": [],
   "source": []
  },
  {
   "cell_type": "code",
   "execution_count": 52,
   "id": "9401b474",
   "metadata": {},
   "outputs": [],
   "source": [
    "from nltk.corpus import stopwords\n",
    "from sklearn.feature_extraction.text import TfidfVectorizer"
   ]
  },
  {
   "cell_type": "code",
   "execution_count": 53,
   "id": "c46c97bd",
   "metadata": {
    "scrolled": true
   },
   "outputs": [],
   "source": [
    "vectorizer = TfidfVectorizer (max_features=2500, min_df=7, max_df=0.8, stop_words=stopwords.words('english'))"
   ]
  },
  {
   "cell_type": "code",
   "execution_count": 54,
   "id": "5bb37ca4",
   "metadata": {},
   "outputs": [],
   "source": [
    "processed_features = vectorizer.fit_transform(processed_features).toarray()"
   ]
  },
  {
   "cell_type": "code",
   "execution_count": 55,
   "id": "e769b8a5",
   "metadata": {},
   "outputs": [
    {
     "data": {
      "text/html": [
       "<div>\n",
       "<style scoped>\n",
       "    .dataframe tbody tr th:only-of-type {\n",
       "        vertical-align: middle;\n",
       "    }\n",
       "\n",
       "    .dataframe tbody tr th {\n",
       "        vertical-align: top;\n",
       "    }\n",
       "\n",
       "    .dataframe thead th {\n",
       "        text-align: right;\n",
       "    }\n",
       "</style>\n",
       "<table border=\"1\" class=\"dataframe\">\n",
       "  <thead>\n",
       "    <tr style=\"text-align: right;\">\n",
       "      <th></th>\n",
       "      <th>0</th>\n",
       "      <th>1</th>\n",
       "      <th>2</th>\n",
       "      <th>3</th>\n",
       "      <th>4</th>\n",
       "      <th>5</th>\n",
       "      <th>6</th>\n",
       "      <th>7</th>\n",
       "      <th>8</th>\n",
       "      <th>9</th>\n",
       "      <th>...</th>\n",
       "      <th>1040</th>\n",
       "      <th>1041</th>\n",
       "      <th>1042</th>\n",
       "      <th>1043</th>\n",
       "      <th>1044</th>\n",
       "      <th>1045</th>\n",
       "      <th>1046</th>\n",
       "      <th>1047</th>\n",
       "      <th>1048</th>\n",
       "      <th>1049</th>\n",
       "    </tr>\n",
       "  </thead>\n",
       "  <tbody>\n",
       "    <tr>\n",
       "      <th>0</th>\n",
       "      <td>0.0</td>\n",
       "      <td>0.0</td>\n",
       "      <td>0.0</td>\n",
       "      <td>0.000000</td>\n",
       "      <td>0.0</td>\n",
       "      <td>0.0</td>\n",
       "      <td>0.0</td>\n",
       "      <td>0.0</td>\n",
       "      <td>0.0</td>\n",
       "      <td>0.0</td>\n",
       "      <td>...</td>\n",
       "      <td>0.000000</td>\n",
       "      <td>0.0</td>\n",
       "      <td>0.0</td>\n",
       "      <td>0.0</td>\n",
       "      <td>0.0</td>\n",
       "      <td>0.0</td>\n",
       "      <td>0.0</td>\n",
       "      <td>0.0</td>\n",
       "      <td>0.138207</td>\n",
       "      <td>0.0</td>\n",
       "    </tr>\n",
       "    <tr>\n",
       "      <th>1</th>\n",
       "      <td>0.0</td>\n",
       "      <td>0.0</td>\n",
       "      <td>0.0</td>\n",
       "      <td>0.000000</td>\n",
       "      <td>0.0</td>\n",
       "      <td>0.0</td>\n",
       "      <td>0.0</td>\n",
       "      <td>0.0</td>\n",
       "      <td>0.0</td>\n",
       "      <td>0.0</td>\n",
       "      <td>...</td>\n",
       "      <td>0.000000</td>\n",
       "      <td>0.0</td>\n",
       "      <td>0.0</td>\n",
       "      <td>0.0</td>\n",
       "      <td>0.0</td>\n",
       "      <td>0.0</td>\n",
       "      <td>0.0</td>\n",
       "      <td>0.0</td>\n",
       "      <td>0.000000</td>\n",
       "      <td>0.0</td>\n",
       "    </tr>\n",
       "    <tr>\n",
       "      <th>2</th>\n",
       "      <td>0.0</td>\n",
       "      <td>0.0</td>\n",
       "      <td>0.0</td>\n",
       "      <td>0.000000</td>\n",
       "      <td>0.0</td>\n",
       "      <td>0.0</td>\n",
       "      <td>0.0</td>\n",
       "      <td>0.0</td>\n",
       "      <td>0.0</td>\n",
       "      <td>0.0</td>\n",
       "      <td>...</td>\n",
       "      <td>0.000000</td>\n",
       "      <td>0.0</td>\n",
       "      <td>0.0</td>\n",
       "      <td>0.0</td>\n",
       "      <td>0.0</td>\n",
       "      <td>0.0</td>\n",
       "      <td>0.0</td>\n",
       "      <td>0.0</td>\n",
       "      <td>0.000000</td>\n",
       "      <td>0.0</td>\n",
       "    </tr>\n",
       "    <tr>\n",
       "      <th>3</th>\n",
       "      <td>0.0</td>\n",
       "      <td>0.0</td>\n",
       "      <td>0.0</td>\n",
       "      <td>0.000000</td>\n",
       "      <td>0.0</td>\n",
       "      <td>0.0</td>\n",
       "      <td>0.0</td>\n",
       "      <td>0.0</td>\n",
       "      <td>0.0</td>\n",
       "      <td>0.0</td>\n",
       "      <td>...</td>\n",
       "      <td>0.000000</td>\n",
       "      <td>0.0</td>\n",
       "      <td>0.0</td>\n",
       "      <td>0.0</td>\n",
       "      <td>0.0</td>\n",
       "      <td>0.0</td>\n",
       "      <td>0.0</td>\n",
       "      <td>0.0</td>\n",
       "      <td>0.000000</td>\n",
       "      <td>0.0</td>\n",
       "    </tr>\n",
       "    <tr>\n",
       "      <th>4</th>\n",
       "      <td>0.0</td>\n",
       "      <td>0.0</td>\n",
       "      <td>0.0</td>\n",
       "      <td>0.152588</td>\n",
       "      <td>0.0</td>\n",
       "      <td>0.0</td>\n",
       "      <td>0.0</td>\n",
       "      <td>0.0</td>\n",
       "      <td>0.0</td>\n",
       "      <td>0.0</td>\n",
       "      <td>...</td>\n",
       "      <td>0.124142</td>\n",
       "      <td>0.0</td>\n",
       "      <td>0.0</td>\n",
       "      <td>0.0</td>\n",
       "      <td>0.0</td>\n",
       "      <td>0.0</td>\n",
       "      <td>0.0</td>\n",
       "      <td>0.0</td>\n",
       "      <td>0.144405</td>\n",
       "      <td>0.0</td>\n",
       "    </tr>\n",
       "    <tr>\n",
       "      <th>...</th>\n",
       "      <td>...</td>\n",
       "      <td>...</td>\n",
       "      <td>...</td>\n",
       "      <td>...</td>\n",
       "      <td>...</td>\n",
       "      <td>...</td>\n",
       "      <td>...</td>\n",
       "      <td>...</td>\n",
       "      <td>...</td>\n",
       "      <td>...</td>\n",
       "      <td>...</td>\n",
       "      <td>...</td>\n",
       "      <td>...</td>\n",
       "      <td>...</td>\n",
       "      <td>...</td>\n",
       "      <td>...</td>\n",
       "      <td>...</td>\n",
       "      <td>...</td>\n",
       "      <td>...</td>\n",
       "      <td>...</td>\n",
       "      <td>...</td>\n",
       "    </tr>\n",
       "    <tr>\n",
       "      <th>9708</th>\n",
       "      <td>0.0</td>\n",
       "      <td>0.0</td>\n",
       "      <td>0.0</td>\n",
       "      <td>0.709438</td>\n",
       "      <td>0.0</td>\n",
       "      <td>0.0</td>\n",
       "      <td>0.0</td>\n",
       "      <td>0.0</td>\n",
       "      <td>0.0</td>\n",
       "      <td>0.0</td>\n",
       "      <td>...</td>\n",
       "      <td>0.000000</td>\n",
       "      <td>0.0</td>\n",
       "      <td>0.0</td>\n",
       "      <td>0.0</td>\n",
       "      <td>0.0</td>\n",
       "      <td>0.0</td>\n",
       "      <td>0.0</td>\n",
       "      <td>0.0</td>\n",
       "      <td>0.000000</td>\n",
       "      <td>0.0</td>\n",
       "    </tr>\n",
       "    <tr>\n",
       "      <th>9709</th>\n",
       "      <td>0.0</td>\n",
       "      <td>0.0</td>\n",
       "      <td>0.0</td>\n",
       "      <td>0.000000</td>\n",
       "      <td>0.0</td>\n",
       "      <td>0.0</td>\n",
       "      <td>0.0</td>\n",
       "      <td>0.0</td>\n",
       "      <td>0.0</td>\n",
       "      <td>0.0</td>\n",
       "      <td>...</td>\n",
       "      <td>0.000000</td>\n",
       "      <td>0.0</td>\n",
       "      <td>0.0</td>\n",
       "      <td>0.0</td>\n",
       "      <td>0.0</td>\n",
       "      <td>0.0</td>\n",
       "      <td>0.0</td>\n",
       "      <td>0.0</td>\n",
       "      <td>0.000000</td>\n",
       "      <td>0.0</td>\n",
       "    </tr>\n",
       "    <tr>\n",
       "      <th>9710</th>\n",
       "      <td>0.0</td>\n",
       "      <td>0.0</td>\n",
       "      <td>0.0</td>\n",
       "      <td>0.000000</td>\n",
       "      <td>0.0</td>\n",
       "      <td>0.0</td>\n",
       "      <td>0.0</td>\n",
       "      <td>0.0</td>\n",
       "      <td>0.0</td>\n",
       "      <td>0.0</td>\n",
       "      <td>...</td>\n",
       "      <td>0.000000</td>\n",
       "      <td>0.0</td>\n",
       "      <td>0.0</td>\n",
       "      <td>0.0</td>\n",
       "      <td>0.0</td>\n",
       "      <td>0.0</td>\n",
       "      <td>0.0</td>\n",
       "      <td>0.0</td>\n",
       "      <td>0.000000</td>\n",
       "      <td>0.0</td>\n",
       "    </tr>\n",
       "    <tr>\n",
       "      <th>9711</th>\n",
       "      <td>0.0</td>\n",
       "      <td>0.0</td>\n",
       "      <td>0.0</td>\n",
       "      <td>0.000000</td>\n",
       "      <td>0.0</td>\n",
       "      <td>0.0</td>\n",
       "      <td>0.0</td>\n",
       "      <td>0.0</td>\n",
       "      <td>0.0</td>\n",
       "      <td>0.0</td>\n",
       "      <td>...</td>\n",
       "      <td>0.000000</td>\n",
       "      <td>0.0</td>\n",
       "      <td>0.0</td>\n",
       "      <td>0.0</td>\n",
       "      <td>0.0</td>\n",
       "      <td>0.0</td>\n",
       "      <td>0.0</td>\n",
       "      <td>0.0</td>\n",
       "      <td>0.000000</td>\n",
       "      <td>0.0</td>\n",
       "    </tr>\n",
       "    <tr>\n",
       "      <th>9712</th>\n",
       "      <td>0.0</td>\n",
       "      <td>0.0</td>\n",
       "      <td>0.0</td>\n",
       "      <td>0.000000</td>\n",
       "      <td>0.0</td>\n",
       "      <td>0.0</td>\n",
       "      <td>0.0</td>\n",
       "      <td>0.0</td>\n",
       "      <td>0.0</td>\n",
       "      <td>0.0</td>\n",
       "      <td>...</td>\n",
       "      <td>0.000000</td>\n",
       "      <td>0.0</td>\n",
       "      <td>0.0</td>\n",
       "      <td>0.0</td>\n",
       "      <td>0.0</td>\n",
       "      <td>0.0</td>\n",
       "      <td>0.0</td>\n",
       "      <td>0.0</td>\n",
       "      <td>0.000000</td>\n",
       "      <td>0.0</td>\n",
       "    </tr>\n",
       "  </tbody>\n",
       "</table>\n",
       "<p>9713 rows × 1050 columns</p>\n",
       "</div>"
      ],
      "text/plain": [
       "      0     1     2         3     4     5     6     7     8     9     ...  \\\n",
       "0      0.0   0.0   0.0  0.000000   0.0   0.0   0.0   0.0   0.0   0.0  ...   \n",
       "1      0.0   0.0   0.0  0.000000   0.0   0.0   0.0   0.0   0.0   0.0  ...   \n",
       "2      0.0   0.0   0.0  0.000000   0.0   0.0   0.0   0.0   0.0   0.0  ...   \n",
       "3      0.0   0.0   0.0  0.000000   0.0   0.0   0.0   0.0   0.0   0.0  ...   \n",
       "4      0.0   0.0   0.0  0.152588   0.0   0.0   0.0   0.0   0.0   0.0  ...   \n",
       "...    ...   ...   ...       ...   ...   ...   ...   ...   ...   ...  ...   \n",
       "9708   0.0   0.0   0.0  0.709438   0.0   0.0   0.0   0.0   0.0   0.0  ...   \n",
       "9709   0.0   0.0   0.0  0.000000   0.0   0.0   0.0   0.0   0.0   0.0  ...   \n",
       "9710   0.0   0.0   0.0  0.000000   0.0   0.0   0.0   0.0   0.0   0.0  ...   \n",
       "9711   0.0   0.0   0.0  0.000000   0.0   0.0   0.0   0.0   0.0   0.0  ...   \n",
       "9712   0.0   0.0   0.0  0.000000   0.0   0.0   0.0   0.0   0.0   0.0  ...   \n",
       "\n",
       "          1040  1041  1042  1043  1044  1045  1046  1047      1048  1049  \n",
       "0     0.000000   0.0   0.0   0.0   0.0   0.0   0.0   0.0  0.138207   0.0  \n",
       "1     0.000000   0.0   0.0   0.0   0.0   0.0   0.0   0.0  0.000000   0.0  \n",
       "2     0.000000   0.0   0.0   0.0   0.0   0.0   0.0   0.0  0.000000   0.0  \n",
       "3     0.000000   0.0   0.0   0.0   0.0   0.0   0.0   0.0  0.000000   0.0  \n",
       "4     0.124142   0.0   0.0   0.0   0.0   0.0   0.0   0.0  0.144405   0.0  \n",
       "...        ...   ...   ...   ...   ...   ...   ...   ...       ...   ...  \n",
       "9708  0.000000   0.0   0.0   0.0   0.0   0.0   0.0   0.0  0.000000   0.0  \n",
       "9709  0.000000   0.0   0.0   0.0   0.0   0.0   0.0   0.0  0.000000   0.0  \n",
       "9710  0.000000   0.0   0.0   0.0   0.0   0.0   0.0   0.0  0.000000   0.0  \n",
       "9711  0.000000   0.0   0.0   0.0   0.0   0.0   0.0   0.0  0.000000   0.0  \n",
       "9712  0.000000   0.0   0.0   0.0   0.0   0.0   0.0   0.0  0.000000   0.0  \n",
       "\n",
       "[9713 rows x 1050 columns]"
      ]
     },
     "execution_count": 55,
     "metadata": {},
     "output_type": "execute_result"
    }
   ],
   "source": [
    "pd.DataFrame(processed_features)"
   ]
  },
  {
   "cell_type": "code",
   "execution_count": 56,
   "id": "277a6259",
   "metadata": {},
   "outputs": [],
   "source": [
    "from sklearn.model_selection import train_test_split\n",
    "\n",
    "X_train, X_test, y_train, y_test = train_test_split(processed_features, labels, test_size=0.2, random_state=0)"
   ]
  },
  {
   "cell_type": "code",
   "execution_count": 57,
   "id": "7c253aed",
   "metadata": {},
   "outputs": [],
   "source": [
    "import numpy as np"
   ]
  },
  {
   "cell_type": "code",
   "execution_count": 58,
   "id": "e5feac6a",
   "metadata": {},
   "outputs": [
    {
     "data": {
      "text/plain": [
       "1050"
      ]
     },
     "execution_count": 58,
     "metadata": {},
     "output_type": "execute_result"
    }
   ],
   "source": [
    "np.shape(X_train)[1]"
   ]
  },
  {
   "cell_type": "code",
   "execution_count": 59,
   "id": "a4ca5b03",
   "metadata": {},
   "outputs": [
    {
     "data": {
      "text/plain": [
       "RandomForestClassifier(n_estimators=200, random_state=0)"
      ]
     },
     "execution_count": 59,
     "metadata": {},
     "output_type": "execute_result"
    }
   ],
   "source": [
    "from sklearn.ensemble import RandomForestClassifier\n",
    "\n",
    "text_classifier = RandomForestClassifier(n_estimators=200, random_state=0)\n",
    "text_classifier.fit(X_train, y_train)"
   ]
  },
  {
   "cell_type": "code",
   "execution_count": 60,
   "id": "c275ffde",
   "metadata": {},
   "outputs": [],
   "source": [
    "predictions = text_classifier.predict(X_test)"
   ]
  },
  {
   "cell_type": "code",
   "execution_count": 61,
   "id": "2e6be74b",
   "metadata": {},
   "outputs": [],
   "source": [
    "from sklearn.metrics import classification_report, confusion_matrix, accuracy_score\n",
    "cm = confusion_matrix(y_test,predictions)"
   ]
  },
  {
   "cell_type": "code",
   "execution_count": 64,
   "id": "548263a8",
   "metadata": {},
   "outputs": [
    {
     "data": {
      "text/plain": [
       "Text(0.5, 15.0, 'Predicted label')"
      ]
     },
     "execution_count": 64,
     "metadata": {},
     "output_type": "execute_result"
    },
    {
     "data": {
      "image/png": "[encoded data removed]",
      "text/plain": [
       "<Figure size 432x288 with 2 Axes>"
      ]
     },
     "metadata": {
      "needs_background": "light"
     },
     "output_type": "display_data"
    }
   ],
   "source": [
    "p = sns.heatmap(pd.DataFrame(cm), annot=True, cmap=\"YlGnBu\" ,fmt='g')\n",
    "plt.title('Random Forest Confusion matrix', y=1.1)\n",
    "plt.ylabel('Actual label')\n",
    "plt.xlabel('Predicted label')"
   ]
  },
  {
   "cell_type": "code",
   "execution_count": 63,
   "id": "576dcf7c",
   "metadata": {},
   "outputs": [
    {
     "name": "stdout",
     "output_type": "stream",
     "text": [
      "              precision    recall  f1-score   support\n",
      "\n",
      "    Negative       0.70      0.31      0.43       137\n",
      "     Neutral       0.25      0.03      0.06       119\n",
      "    Positive       0.90      0.99      0.94      1687\n",
      "\n",
      "    accuracy                           0.89      1943\n",
      "   macro avg       0.62      0.45      0.48      1943\n",
      "weighted avg       0.84      0.89      0.85      1943\n",
      "\n",
      "0.8867730313947504\n"
     ]
    }
   ],
   "source": [
    "print(classification_report(y_test,predictions))\n",
    "print(accuracy_score(y_test, predictions))"
   ]
  },
  {
   "cell_type": "code",
   "execution_count": null,
   "id": "d6fc2b30",
   "metadata": {},
   "outputs": [],
   "source": []
  }
 ],
 "metadata": {
  "kernelspec": {
   "display_name": "Python 3.9 (tensorflow)",
   "language": "python",
   "name": "tensorflow"
  },
  "language_info": {
   "codemirror_mode": {
    "name": "ipython",
    "version": 3
   },
   "file_extension": ".py",
   "mimetype": "text/x-python",
   "name": "python",
   "nbconvert_exporter": "python",
   "pygments_lexer": "ipython3",
   "version": "3.9.10"
  }
 },
 "nbformat": 4,
 "nbformat_minor": 5
}
